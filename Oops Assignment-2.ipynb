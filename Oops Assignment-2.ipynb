{
 "cells": [
  {
   "cell_type": "markdown",
   "id": "05101f8f-ef19-4b09-96f8-d6e4ce8e858d",
   "metadata": {},
   "source": [
    "### Q1. What is Abstraction in OOps? Explain with an example."
   ]
  },
  {
   "cell_type": "markdown",
   "id": "0c4be8d2-85b3-44b9-a13c-4a9f2ebe430e",
   "metadata": {},
   "source": [
    "## Abstraction "
   ]
  },
  {
   "cell_type": "markdown",
   "id": "e0495d2f-46d2-464c-8ec4-346bf07ab006",
   "metadata": {},
   "source": [
    "Abstraction is used to hide the internal functionality of the function from the users. The users only interact with the basic implementation of the function, but inner working is hidden. \n",
    "\n"
   ]
  },
  {
   "cell_type": "markdown",
   "id": "29028902-777e-4306-b2a7-b1644c73be3a",
   "metadata": {},
   "source": [
    "In simple words, we all use the smartphone and very much familiar with its functions such as camera, voice-recorder, call-dialing, etc., but we don't know how these operations are happening in the background. Let's take another example - When we use the TV remote to increase the volume. We don't know how pressing a key increases the volume of the TV. We only know to press the \"+\" button to increase the volume."
   ]
  },
  {
   "cell_type": "markdown",
   "id": "096e52ae-d619-4a6d-b1fe-309af8db18b1",
   "metadata": {},
   "source": [
    "\n",
    "Python does not provide abstract classes by default. To create abstract classes and perform abstraction, we need to first import the Python module abc. \n",
    "\n",
    "This abc module provides the infrastructure for defining the abstract base class in Python. Using this, we can define a structure, but there’s no need to provide complete implementation for every method.\n",
    "\n"
   ]
  },
  {
   "cell_type": "code",
   "execution_count": 1,
   "id": "49913106-ea9d-4fba-95f6-be83ff28dc3e",
   "metadata": {},
   "outputs": [],
   "source": [
    "import abc\n",
    "class pwskills:\n",
    "    \n",
    "    @abc.abstractmethod\n",
    "    def student_details(self):\n",
    "        pass\n",
    "    \n",
    "    @abc.abstractmethod\n",
    "    def student_assignment(self):\n",
    "        pass\n",
    "    \n",
    "    @abc.abstractmethod\n",
    "    def student_marks(self):\n",
    "        pass"
   ]
  },
  {
   "cell_type": "code",
   "execution_count": 2,
   "id": "e925d674-891a-45e7-820b-1bbd0c26ae42",
   "metadata": {},
   "outputs": [],
   "source": [
    "class student_details(pwskills):\n",
    "    \n",
    "    def student_details(self):\n",
    "        return \"this is a meth for taking students details\"\n",
    "    \n",
    "    def student_assignment(self):\n",
    "        return \"this is a meth for assign details for a perticualt student\""
   ]
  },
  {
   "cell_type": "code",
   "execution_count": 3,
   "id": "1f9b4542-dade-4a42-9779-7663570406d6",
   "metadata": {},
   "outputs": [],
   "source": [
    "class data_science_masters(pwskills):\n",
    "    \n",
    "    def student_details(self):\n",
    "        return \"this will return a student for data science masters\"\n",
    "    \n",
    "    def student_assignment(self):\n",
    "        return \"this will give you a student assignment details for data science masters\""
   ]
  },
  {
   "cell_type": "code",
   "execution_count": 4,
   "id": "aaaf824b-4dad-4ab9-8f98-22bf3e7f5186",
   "metadata": {},
   "outputs": [
    {
     "data": {
      "text/plain": [
       "'this will return a student for data science masters'"
      ]
     },
     "execution_count": 4,
     "metadata": {},
     "output_type": "execute_result"
    }
   ],
   "source": [
    "dsm = data_science_masters()\n",
    "dsm.student_details()"
   ]
  },
  {
   "cell_type": "code",
   "execution_count": 5,
   "id": "254814d1-543a-4e9f-acea-9022f301372c",
   "metadata": {},
   "outputs": [
    {
     "data": {
      "text/plain": [
       "'this is a meth for taking students details'"
      ]
     },
     "execution_count": 5,
     "metadata": {},
     "output_type": "execute_result"
    }
   ],
   "source": [
    "sd = student_details()\n",
    "sd.student_details()"
   ]
  },
  {
   "cell_type": "markdown",
   "id": "458fb8e1-67a2-4420-a816-e2547971f486",
   "metadata": {},
   "source": [
    "### Q2. Differentiate between Abstraction and Encapsulation. Explain with an example."
   ]
  },
  {
   "cell_type": "markdown",
   "id": "794bc647-1b28-4d57-b735-e1893112a4ae",
   "metadata": {},
   "source": [
    "###  Abstraction:\n",
    "Abstraction is defined as a process of hiding the implementation details of a system from the user. Thus, by using abstraction, we provided only the functionality of the system to the user. Consequently, the user will have information on what the system does, but not on how the system does it"
   ]
  },
  {
   "cell_type": "markdown",
   "id": "5febeb56-115f-4084-882c-5ef1fb9c6e65",
   "metadata": {},
   "source": [
    "###  Encapsulation:\n",
    "Encapsulation is one of the fundamental OOP concepts. Encapsulation is defined as a method by which data wrapping is done into a single unit. It is used in wrapping up the data and the code acting on the data together as a single unit.\n",
    "\n",
    "In encapsulation, the variables of a class are hidden from other classes, and can be accessed only by methods of the current class. Therefore, encapsulation is also called data hiding. Encapsulation is implemented using access modifiers like public, private and protected."
   ]
  },
  {
   "cell_type": "markdown",
   "id": "097ed781-2764-46ac-9f40-28fa145f96f2",
   "metadata": {},
   "source": [
    "### Example\n",
    " Let us take an example of television. Encapsulation is the internal circuits, LEDS, etc that combine to make it a TV. Abstraction is the on-off, sound, channel setting and other buttons provided to operate it"
   ]
  },
  {
   "cell_type": "markdown",
   "id": "aa7b07ae-e082-448d-9561-fc80ffb97fcb",
   "metadata": {},
   "source": [
    "### Differentiate between Abstraction and Encapsulation"
   ]
  },
  {
   "cell_type": "markdown",
   "id": "732eb838-a053-42b9-b15b-9467e7209ada",
   "metadata": {},
   "source": [
    "Abstraction shows only useful data by providing the most necessary details, whereas Encapsulation wraps code and data for necessary information.\n",
    "\n",
    "Abstraction is focused mainly on what should be done, while Encapsulation is focused on how it should be done.\n",
    "\n",
    "Abstraction hides complexity by giving you a more abstract picture, while Encapsulation hides internal work so that you can change it later.\n",
    "\n",
    "Abstraction helps you to partition the program into many independent portions, whereas Encapsulation is easy to change with new requirements.\n",
    "\n",
    "Comparing Encapsulation vs Abstraction, Abstraction solves problems at the design level while Encapsulation solves problems at the implementation level.\n",
    "\n",
    "Abstraction hides the irrelevant details found in the code, whereas Encapsulation helps developers to organize the entire code easily."
   ]
  },
  {
   "cell_type": "markdown",
   "id": "6812178b-6492-4ea4-bbeb-cbee283bb17b",
   "metadata": {},
   "source": [
    "### Q3. What is abc module in python? Why is it used?"
   ]
  },
  {
   "cell_type": "markdown",
   "id": "8daaf889-45fa-4e4d-83ba-b4667d70cf8e",
   "metadata": {},
   "source": [
    "The 'abc' module in Python library provides the infrastructure for defining custom abstract base classes.\n",
    "\n",
    "'abc' works by marking methods of the base class as abstract. This is done by @absttractmethod decorator. A concrete class which is a sub class of such abstract base class then implements the abstract base by overriding its abstract methods."
   ]
  },
  {
   "cell_type": "markdown",
   "id": "e52e169a-acb1-4062-99a7-31d32d8f078c",
   "metadata": {},
   "source": [
    "### Why use it?\n",
    "Abstract base classes are a form of interface checking more strict than individual hasattr() checks for particular methods. By defining an abstract base class, you can define a common API for a set of subclasses. This capability is especially useful in situations where a third-party is going to provide implementations, such as with plugins to an application, but can also aid you when working on a large team or with a large code-base where keeping all classes in your head at the same time is difficult or not possible."
   ]
  },
  {
   "cell_type": "markdown",
   "id": "23364e3e-9119-4624-9d07-204c4bb82697",
   "metadata": {},
   "source": [
    "### Q4. How can we achieve data abstraction?"
   ]
  },
  {
   "cell_type": "markdown",
   "id": "1811a63b-b495-4bd0-9512-75bb69736ee9",
   "metadata": {},
   "source": [
    "Data Abstraction in Python can be achieved through creating abstract classes and inheriting them later. Before discussing what abstract classes are, let us have a brief introduction of inheritance.\n",
    "\n",
    "Inheritance in OOP is a way through which one class inherits the attributes and methods of another class. "
   ]
  },
  {
   "cell_type": "markdown",
   "id": "d8ddfffd-73bb-4418-bf05-51c1da42d55e",
   "metadata": {},
   "source": [
    "### Q5. Can we create an instance of an abstract class? Explain your answer."
   ]
  },
  {
   "cell_type": "markdown",
   "id": "dcd78a6f-7c03-481d-b635-af17b9aaf984",
   "metadata": {},
   "source": [
    "Abstract classes are incomplete because they have methods that have nobody. If python allows creating an object for abstract classes then using that object if anyone calls the abstract method, but there is no actual implementation to invoke. So we use an abstract class as a template and according to the need, we extend it and build on it before we can use it. Due to the fact, an abstract class is not a concrete class, it cannot be instantiated. When we create an object for the abstract class it raises an error. "
   ]
  },
  {
   "cell_type": "code",
   "execution_count": 13,
   "id": "d024bd99-2a4c-4047-b23d-c62bd3951f67",
   "metadata": {},
   "outputs": [
    {
     "ename": "TypeError",
     "evalue": "Can't instantiate abstract class Animal with abstract method move",
     "output_type": "error",
     "traceback": [
      "\u001b[0;31m---------------------------------------------------------------------------\u001b[0m",
      "\u001b[0;31mTypeError\u001b[0m                                 Traceback (most recent call last)",
      "Cell \u001b[0;32mIn[13], line 22\u001b[0m\n\u001b[1;32m     20\u001b[0m     \u001b[38;5;28;01mdef\u001b[39;00m \u001b[38;5;21mmove\u001b[39m(\u001b[38;5;28mself\u001b[39m):\n\u001b[1;32m     21\u001b[0m         \u001b[38;5;28mprint\u001b[39m(\u001b[38;5;124m\"\u001b[39m\u001b[38;5;124mI can roar\u001b[39m\u001b[38;5;124m\"\u001b[39m)\n\u001b[0;32m---> 22\u001b[0m c1\u001b[38;5;241m=\u001b[39m\u001b[43mAnimal\u001b[49m\u001b[43m(\u001b[49m\u001b[43m)\u001b[49m\n",
      "\u001b[0;31mTypeError\u001b[0m: Can't instantiate abstract class Animal with abstract method move"
     ]
    }
   ],
   "source": [
    "from abc import ABC,abstractmethod\n",
    " \n",
    "class Animal(ABC):\n",
    "    @abstractmethod\n",
    "    def move(self):\n",
    "        pass\n",
    "class Human(Animal):\n",
    "    def move(self):\n",
    "        print(\"I can walk and run\")\n",
    "        \n",
    "class Snake(Animal):\n",
    "    def move(self):\n",
    "        print(\"I can crawl\")\n",
    "        \n",
    "class Dog(Animal):\n",
    "    def move(self):\n",
    "        print(\"I can bark\")\n",
    "        \n",
    "class Lion(Animal):\n",
    "    def move(self):\n",
    "        print(\"I can roar\")\n",
    "c1=Animal()"
   ]
  }
 ],
 "metadata": {
  "kernelspec": {
   "display_name": "Python 3 (ipykernel)",
   "language": "python",
   "name": "python3"
  },
  "language_info": {
   "codemirror_mode": {
    "name": "ipython",
    "version": 3
   },
   "file_extension": ".py",
   "mimetype": "text/x-python",
   "name": "python",
   "nbconvert_exporter": "python",
   "pygments_lexer": "ipython3",
   "version": "3.10.8"
  }
 },
 "nbformat": 4,
 "nbformat_minor": 5
}
